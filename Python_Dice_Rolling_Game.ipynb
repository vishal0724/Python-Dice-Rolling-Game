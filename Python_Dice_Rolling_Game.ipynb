{
  "nbformat": 4,
  "nbformat_minor": 0,
  "metadata": {
    "colab": {
      "name": "Python  Dice Rolling Game.ipynb",
      "provenance": [],
      "authorship_tag": "ABX9TyNWLFwy1Hn3X4oGpwGfmnwl",
      "include_colab_link": true
    },
    "kernelspec": {
      "name": "python3",
      "display_name": "Python 3"
    }
  },
  "cells": [
    {
      "cell_type": "markdown",
      "metadata": {
        "id": "view-in-github",
        "colab_type": "text"
      },
      "source": [
        "<a href=\"https://colab.research.google.com/github/vishal0724/Python-projects/blob/master/Python_Dice_Rolling_Game.ipynb\" target=\"_parent\"><img src=\"https://colab.research.google.com/assets/colab-badge.svg\" alt=\"Open In Colab\"/></a>"
      ]
    },
    {
      "cell_type": "code",
      "metadata": {
        "id": "7_h5UlkVBe_p",
        "colab_type": "code",
        "colab": {}
      },
      "source": [
        "#for game\n",
        "def for1 (no1):\n",
        "    print(\"[-----------]\")\n",
        "    print(\"[           ]\")\n",
        "    print(\"[     0     ]\")\n",
        "    print(\"[           ]\")\n",
        "    print(\"[-----------]\")\n",
        "    return \"For again press Enter\"\n",
        "def for2 (no1):\n",
        "    print(\"[-----------]\")\n",
        "    print(\"[           ]\")\n",
        "    print(\"[   0   0   ]\")\n",
        "    print(\"[           ]\")\n",
        "    print(\"[-----------]\")\n",
        "    return \"For again press Enter\"\n",
        "def for3 (no1):\n",
        "    print(\"[-----------]\")\n",
        "    print(\"[     0     ]\")\n",
        "    print(\"[     0     ]\")\n",
        "    print(\"[     0     ]\")\n",
        "    print(\"[-----------]\")\n",
        "    return \"For again press Enter\"\n",
        "def for4 (no1):\n",
        "    print(\"[-----------]\")\n",
        "    print(\"[   0   0   ]\")\n",
        "    print(\"[           ]\")\n",
        "    print(\"[   0   0   ]\")\n",
        "    print(\"[-----------]\")\n",
        "    return \"For again press Enter\"\n",
        "def for5 (no1):\n",
        "    print(\"[-----------]\")\n",
        "    print(\"[   0   0   ]\")\n",
        "    print(\"[     0     ]\")\n",
        "    print(\"[   0   0   ]\")\n",
        "    print(\"[-----------]\")\n",
        "    return \"For again press Enter\"\n",
        "def for6 (no1):\n",
        "    print(\"[-----------]\")\n",
        "    print(\"[   0   0   ]\")\n",
        "    print(\"[   0   0   ]\")\n",
        "    print(\"[   0   0   ]\")\n",
        "    print(\"[-----------]\")\n",
        "    return \"For again press Enter\"\n",
        "\n",
        "import random\n",
        "inp=\"\"\n",
        "\n",
        "\n",
        "while inp ==\"\":\n",
        "    nanno=random.randint(1,6)\n",
        "    if nanno==1:\n",
        "        print(for1(1))\n",
        "    elif nanno==2:\n",
        "        print(for2(2))\n",
        "    elif nanno==3:\n",
        "        print(for3(2))\n",
        "    elif nanno==4:\n",
        "        print(for4(2))\n",
        "    elif nanno==5:\n",
        "        print(for5(2))\n",
        "    elif nanno==6:\n",
        "        print(for6(2))\n",
        "    inp=input()"
      ],
      "execution_count": null,
      "outputs": []
    }
  ]
}